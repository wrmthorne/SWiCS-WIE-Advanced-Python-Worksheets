{
 "cells": [
  {
   "cell_type": "markdown",
   "metadata": {},
   "source": [
    "# Linear Regression"
   ]
  },
  {
   "cell_type": "markdown",
   "metadata": {},
   "source": [
    "Download the required libraries for this notebook by running the cell below. If you are using conda, uncomment and run the conda command. If you are using PIP, uncomment and use the PIP command.\n",
    "\n",
    "COME BACK AND MAKE CONDA USE ENVIRONMENT.YML TO LOAD INSTEAD OF REQUIREMENTS.TXT"
   ]
  },
  {
   "cell_type": "code",
   "execution_count": 276,
   "metadata": {},
   "outputs": [],
   "source": [
    "import sys\n",
    "#!conda install --yes --prefix {sys.prefix} \n",
    "#!{sys.executable} -m pip install -r requirements.txt"
   ]
  },
  {
   "cell_type": "code",
   "execution_count": 277,
   "metadata": {},
   "outputs": [],
   "source": [
    "import time\n",
    "import re\n",
    "import numpy as np\n",
    "import pandas as pd\n",
    "from scipy import stats\n",
    "%matplotlib inline \n",
    "import matplotlib.pyplot as plt\n",
    "\n",
    "# Ensures that all dataframes are displayed on one line instead of breaking columns across multiple lines\n",
    "pd.set_option('display.expand_frame_repr', False)"
   ]
  },
  {
   "cell_type": "markdown",
   "metadata": {},
   "source": [
    "## Import the Data\n",
    "\n",
    "For this example, the gold medal results of olympic track and field events will be used to show linear regression in action. The medal winning times for the men's marathon from each olympic games between 1896 and 2016 will be used to draw a line of best fit. The original dataset can be found [here](https://www.kaggle.com/datasets/jayrav13/olympic-track-field-results/discussion/272523)."
   ]
  },
  {
   "cell_type": "code",
   "execution_count": 278,
   "metadata": {},
   "outputs": [
    {
     "name": "stdout",
     "output_type": "stream",
     "text": [
      "<class 'pandas.core.frame.DataFrame'>\n",
      "RangeIndex: 2394 entries, 0 to 2393\n",
      "Data columns (total 9 columns):\n",
      " #   Column       Non-Null Count  Dtype  \n",
      "---  ------       --------------  -----  \n",
      " 0   Gender       2394 non-null   object \n",
      " 1   Event        2394 non-null   object \n",
      " 2   Location     2394 non-null   object \n",
      " 3   Year         2394 non-null   int64  \n",
      " 4   Medal        2394 non-null   object \n",
      " 5   Name         2164 non-null   object \n",
      " 6   Nationality  2394 non-null   object \n",
      " 7   Result       2394 non-null   object \n",
      " 8   Wind         12 non-null     float64\n",
      "dtypes: float64(1), int64(1), object(7)\n",
      "memory usage: 168.5+ KB\n",
      "None\n"
     ]
    }
   ],
   "source": [
    "df = pd.read_csv('https://raw.githubusercontent.com/wrmthorne/linear-regression/main/olympic_data.csv', encoding='unicode_escape')\n",
    "\n",
    "# Print some information about the dataframe\n",
    "print(df.info())"
   ]
  },
  {
   "cell_type": "markdown",
   "metadata": {},
   "source": [
    "### Exercise 1\n",
    "\n",
    "Extract only the men's marathon results from the full list of data and keep only the 'Year' and 'Result' columns. We are only interested in plotting the year against the time achieved for each year.\n",
    "\n",
    "Hint: You can get a list of all of the olympic events in this dataset using df.Event.unique()"
   ]
  },
  {
   "cell_type": "code",
   "execution_count": 279,
   "metadata": {},
   "outputs": [],
   "source": [
    "# Example answer\n",
    "data = df[['Year', 'Result']].loc[df.Event == 'Marathon Men']"
   ]
  },
  {
   "cell_type": "code",
   "execution_count": 280,
   "metadata": {},
   "outputs": [],
   "source": [
    "# Test to see whether your method returned the right results\n"
   ]
  },
  {
   "cell_type": "markdown",
   "metadata": {},
   "source": [
    "## Preparing the data\n",
    "\n",
    "Once we have selected the subset of data we want to use, we need to split it into each separate axis to represent. Since we are only mapping the function of two columns, we can use a function of the form:\n",
    "\n",
    "$$\n",
    "y = mx + c\n",
    "$$\n",
    "\n",
    "As our independent variable is the year and our dependent variable is the result, we assign $x$ to year and $y$ to time. Because time is in a string format in the dataset, we need to convert it to a numerical form that can be use in arithmetic. As times are represented in a number of different ways in this dataset, we will use [regular expressions](https://docs.python.org/3/library/re.html) for convert them to an integer number of seconds. If they were all in the same format, we could use a library such as [time](https://docs.python.org/3/library/time.html)."
   ]
  },
  {
   "cell_type": "code",
   "execution_count": 281,
   "metadata": {},
   "outputs": [
    {
     "name": "stdout",
     "output_type": "stream",
     "text": [
      "Before Transform: ['3-06:35' '2-58:50' '3-06:03' '3-04:17.0' '2-59:45.0']\n",
      "After Transform:  [11195 10730 11163 11057 10785]\n"
     ]
    }
   ],
   "source": [
    "# Takes string time format and converts time into integer seconds\n",
    "def convert_to_seconds(x):\n",
    "    parsed_x = re.search(r'((?P<hours>\\d+).(?P<minutes>\\d+).(?P<seconds>\\d+))', x)\n",
    "    hours    = int(parsed_x.group('hours')) * 60 * 60\n",
    "    minutes  = int(parsed_x.group('minutes')) * 60\n",
    "    seconds  = int(parsed_x.group('seconds'))\n",
    "    return hours + minutes + seconds\n",
    "\n",
    "# Sort data by ascending years\n",
    "data = data.sort_values(by=['Year'])\n",
    "\n",
    "# Show first 5 y before transformation\n",
    "print(f'Before Transform: {data.Result[:5].values}')\n",
    "\n",
    "# Convert Results column to be in seconds\n",
    "results_transformed = data.Result.apply(lambda x: convert_to_seconds(x))\n",
    "\n",
    "# Show first 5 y after transformation\n",
    "print(f'After Transform:  {results_transformed[:5].values}')\n",
    "\n",
    "# Assign x and y and shape them into a column vector\n",
    "x = np.array(data.Year.values).astype(float)\n",
    "y = np.array(results_transformed.values).astype(float)"
   ]
  },
  {
   "cell_type": "markdown",
   "metadata": {},
   "source": [
    "## Inspecting the Data\n",
    "\n",
    "Now that we have our data in a computer interpretable format, we can visualise the data to inspect what we expect the result to look like. We can plot the data on a scatter plot and manully visualise where a line of best fit might pass."
   ]
  },
  {
   "cell_type": "code",
   "execution_count": 282,
   "metadata": {},
   "outputs": [
    {
     "data": {
      "image/png": "[encoded data removed]",
      "text/plain": [
       "<Figure size 432x288 with 1 Axes>"
      ]
     },
     "metadata": {
      "needs_background": "light"
     },
     "output_type": "display_data"
    }
   ],
   "source": [
    "plt.plot(x, y, 'rx')\n",
    "plt.title('Medal Times for Men\\'s Olympic Marathon')\n",
    "plt.xlabel('Year')\n",
    "plt.ylabel('Time (Seconds)')\n",
    "plt.show()"
   ]
  },
  {
   "cell_type": "markdown",
   "metadata": {},
   "source": [
    "### Exercise 2\n",
    "\n",
    "Use a numpy linspace with 100 values to draw a line, on the same plot as our x and y data, with the function:\n",
    "\n",
    "$$\n",
    "f(x) = x + 7,000\n",
    "$$\n",
    "\n",
    "Make sure not to overwite `x` and `y` with this so you can plot the original data with this line."
   ]
  },
  {
   "cell_type": "code",
   "execution_count": 283,
   "metadata": {},
   "outputs": [
    {
     "data": {
      "text/plain": [
       "[<matplotlib.lines.Line2D at 0x7fdbd223b4c0>]"
      ]
     },
     "execution_count": 283,
     "metadata": {},
     "output_type": "execute_result"
    },
    {
     "data": {
      "image/png": "[encoded data removed]",
      "text/plain": [
       "<Figure size 432x288 with 1 Axes>"
      ]
     },
     "metadata": {
      "needs_background": "light"
     },
     "output_type": "display_data"
    }
   ],
   "source": [
    "# Example answer\n",
    "x_test = np.linspace(min(x), max(x), 100)\n",
    "\n",
    "y_test = x_test + 7000\n",
    "\n",
    "plt.plot(x, y, 'rx')\n",
    "plt.plot(x_test, y_test)"
   ]
  },
  {
   "cell_type": "markdown",
   "metadata": {},
   "source": [
    " ## Fitting the Data\n",
    " \n",
    " You may be able to see that it doesn't fit the data very well. It roughly intersects the data but it doesn't follow the trend of the data well and would make a very poor prediction. This is finally where linear regression comes into play. Linear regression uses linear algebra to mathematically solve for variables $m$ and $c$ in the above formula to minimise the sum of squares error:\n",
    "\n",
    " $$\n",
    " E(m, c) = \\sum^{n}_{i=1}(y_i - (mx_i + c))^2\n",
    " $$\n",
    "\n",
    " If you are interested in the maths of linear regression, it will be covered in the extension section of this notebook. In the extension section, linear regression will be implemented manually in numpy to better understand how it functions. This section will cover how to use the [stats.lingress](https://docs.scipy.org/doc/scipy-0.14.0/reference/generated/scipy.stats.linregress.html) method from [SciPy](https://docs.scipy.org/doc/scipy-0.14.0/reference/index.html).\n",
    "\n",
    " SciPy is a collection of mathematical algorithms and functions, built on numpy, to enable a user to easily perform complex tasks with simple methods. Although you have less granular control than other libraries which perform a similar task such as [scikit-learn](https://scikit-learn.org/stable/), the wrapper is simple and easy to use. In fact, to perform linear regression on our processed data, we only need one line of code:"
   ]
  },
  {
   "cell_type": "code",
   "execution_count": 284,
   "metadata": {},
   "outputs": [],
   "source": [
    "slope, intercept, r_value, p_value, std_err = stats.linregress(x, y)"
   ]
  },
  {
   "cell_type": "markdown",
   "metadata": {},
   "source": [
    "The important returned parameters for our function $y = mx + c$ are slope and intercept, representing $m$ and $c$, respectively. r_value represents the [correlation coefficient](https://www.statisticshowto.com/probability-and-statistics/correlation-coefficient-formula/), p_value is a [two-sided p test](https://stattrek.com/regression/slope-test.aspx) and the std_err is the standard error of the estimate, which is of the form:\n",
    "\n",
    "$$\n",
    "SE = \\frac{\\sigma}{\\sqrt{n}}\n",
    "$$"
   ]
  },
  {
   "cell_type": "code",
   "execution_count": 285,
   "metadata": {},
   "outputs": [
    {
     "data": {
      "image/png": "[encoded data removed]",
      "text/plain": [
       "<Figure size 432x288 with 1 Axes>"
      ]
     },
     "metadata": {
      "needs_background": "light"
     },
     "output_type": "display_data"
    }
   ],
   "source": [
    "y_lin = slope * x + intercept\n",
    "\n",
    "plt.plot(x, y, 'rx', label='Data')\n",
    "plt.plot(x, y_lin, 'g-', label='Linear')\n",
    "plt.title('Medal Times for Men\\'s Olympic Marathon')\n",
    "plt.xlabel('Year')\n",
    "plt.ylabel('Time (Seconds)')\n",
    "plt.legend()\n",
    "plt.show()"
   ]
  },
  {
   "cell_type": "markdown",
   "metadata": {},
   "source": [
    "### Exercise 3\n",
    "\n",
    "Repeat the steps above to plot the data of the women's 100m and calculate and plot the line of best fit.\n",
    "\n",
    "Be careful to remove any missing data (e.g. None, NaN values in the dataframe). Normally for this data, `df.dropna()` will remove any of these rows but in this dataset, missing data is represented with a string 'None' so we have to use a work around: `df.mask(df.eq('None')).dropna()`"
   ]
  },
  {
   "cell_type": "code",
   "execution_count": 286,
   "metadata": {},
   "outputs": [
    {
     "data": {
      "image/png": "[encoded data removed]",
      "text/plain": [
       "<Figure size 432x288 with 1 Axes>"
      ]
     },
     "metadata": {
      "needs_background": "light"
     },
     "output_type": "display_data"
    }
   ],
   "source": [
    "# Example answer\n",
    "data = df[['Year', 'Result']].loc[df.Event == '100M Women'].sort_values(by=['Year']).mask(df.eq('None')).dropna()\n",
    "\n",
    "x = np.array(data.Year.values).astype(float)\n",
    "y = np.array(data.Result.values).astype(float)\n",
    "\n",
    "slope, intercept, _, _, _ = stats.linregress(x, y)\n",
    "\n",
    "y_lin = slope * x + intercept\n",
    "\n",
    "plt.plot(x, y, 'rx', label='Data')\n",
    "plt.plot(x, y_lin, 'g-', label='Linear')\n",
    "plt.title('Medal Times for Women\\'s Olympic 100m')\n",
    "plt.xlabel('Year')\n",
    "plt.ylabel('Time (Seconds)')\n",
    "plt.legend()\n",
    "plt.show()"
   ]
  },
  {
   "cell_type": "markdown",
   "metadata": {},
   "source": [
    "## Improving Our Line of Best Fit\n",
    "\n",
    "Although our line of best fit generally covers the points, it would still make a bad prediction of the next olympic's gold medal pace. This is because we have applied a linear function to a non-linear distribution of points. This is a limitation of linear regression in its fundamental form but it can be built upon using basis functions.\n",
    "\n",
    "A basis function $\\phi$ directly transforms the original input space $x$, meaning a set of linear parameters (no powers) can still be used for $m$ and $c$, but a non-linear line of best fit can be represented. Simply put, our function to optimise remains the same, but on a transformed variable:\n",
    "\n",
    "$$\n",
    "y = mx + c\n",
    "$$\n",
    "$$\n",
    "y = m\\phi(x) + c\n",
    "$$\n",
    "\n",
    "Any function can be used as a basis function but a common basis function is polynomial:\n",
    "\n",
    "$$\n",
    "\\phi{_j}(x_i^j)\n",
    "$$\n",
    "$$\n",
    "\\Phi(x) = x + x^2 + x^3 \\dots + x^n\n",
    "$$\n",
    "\n",
    "For us to use basis functions, we need to first transform our data for $x$ into a new form called a design matrix."
   ]
  },
  {
   "cell_type": "markdown",
   "metadata": {},
   "source": [
    "### Exercise 4\n",
    "\n",
    "Create a design matrix where the data for $x$ is represented in a 2D array of the form:\n",
    "\n",
    "$$\n",
    "X = \\begin{bmatrix} 1 & x_1 \\\\ 1 & x_2 \\\\ \\vdots & \\vdots \\\\ 1 & x_n \\end{bmatrix}\n",
    "$$\n",
    "\n",
    "Hint: look at `np.ones` and `np.hstack`. Alternatively, look at `np.ones_like`"
   ]
  },
  {
   "cell_type": "code",
   "execution_count": 287,
   "metadata": {},
   "outputs": [],
   "source": [
    "# Example answer\n",
    "x_vec = x.reshape(-1, 1)\n",
    "X = np.hstack((np.ones_like(x_vec), x_vec))"
   ]
  },
  {
   "cell_type": "markdown",
   "metadata": {},
   "source": [
    "### Exercise 5\n",
    "\n",
    "Write a function to calculate the polynomial basis function for input data $x$ (not design matrix as input, just original data) which outputs $\\Phi(X)$ in the following form:\n",
    "\n",
    "$$\n",
    "\\Phi(X) = \\begin{bmatrix}\n",
    "1 & x_1 & x_1^2 \\\\\n",
    "1 & x_2 & x_2^2 \\\\\n",
    "\\vdots & \\vdots & \\vdots \\\\\n",
    "1 & x_n & x_n^2 \\\\\n",
    "\\end{bmatrix}\n",
    "$$\n",
    "\n",
    "As a bonus, allow the function to take a parameter to control the number of polynomial terms."
   ]
  },
  {
   "cell_type": "code",
   "execution_count": 288,
   "metadata": {},
   "outputs": [],
   "source": [
    "# Example answer\n",
    "def polynomial(x, num_basis=4):\n",
    "    x = x.reshape(-1, 1)\n",
    "    phi = np.zeros((x.shape[0], num_basis))\n",
    "    for i in range(num_basis):\n",
    "        phi[:, i:i+1] = x**i\n",
    "    return phi\n",
    "\n",
    "#print(polynomial(x))"
   ]
  },
  {
   "cell_type": "markdown",
   "metadata": {},
   "source": [
    "## Plot New Line of Best Fit"
   ]
  },
  {
   "cell_type": "code",
   "execution_count": 289,
   "metadata": {},
   "outputs": [],
   "source": [
    "# Need multiple regression method or milti-variate linear regression method"
   ]
  },
  {
   "cell_type": "markdown",
   "metadata": {},
   "source": [
    "## Extension: The Maths\n",
    "\n",
    "If you are interested in the maths of linear regression, this section will cover how to implement linear regression manually in numpy. This will also cover the underlying linear algebra involved and generally dig deeper into the topic. If you want every last step in the derivation of all of these formulas, they can be found in [this article](https://towardsdatascience.com/understanding-linear-regression-eaaaed2d983e) and in many other places online.\n",
    "\n",
    "As stated before, the aim of linear regression is to algebraically solve for $m$ and $c$ in a function of the form:\n",
    "\n",
    "$$\n",
    "y = mx + c\n",
    "$$\n",
    "\n",
    "There are two ways of minimising the loss w.r.t $m$ and $c$. It can be solved using linear algebra (the method which will be covered here) or it can be performed iteratively, that is, by updating the values by a incremental amount ([learning rate](https://machinelearningmastery.com/understand-the-dynamics-of-learning-rate-on-deep-learning-neural-networks/)) at each iteration of a loop. This is known as [gradient descent](https://towardsdatascience.com/gradient-descent-algorithm-a-deep-dive-cf04e8115f21) and is the primary algorithm used on extremely large models where there is too much data to store in memory at any one time to solve algebraically.\n",
    "\n",
    "All standard models of linear regression will make use of matrix multiplication. If you haven't used matrices before, [khan academy](https://www.khanacademy.org/math/precalculus/x9e81a4f98389efdf:matrices/x9e81a4f98389efdf:mat-intro/v/introduction-to-the-matrix) has a really good series on them. We will first cover how to use matrices in numpy."
   ]
  },
  {
   "cell_type": "code",
   "execution_count": 290,
   "metadata": {},
   "outputs": [
    {
     "name": "stdout",
     "output_type": "stream",
     "text": [
      "[[2 4 4 1]\n",
      " [4 2 1 4]\n",
      " [2 3 2 1]\n",
      " [4 1 2 3]]\n",
      "\n",
      "[[2 4 2 1]\n",
      " [3 1 1 4]\n",
      " [2 1 1 3]\n",
      " [1 2 2 3]]\n"
     ]
    }
   ],
   "source": [
    "# Define matrix A and matrix B (2D numpy arrays)\n",
    "A = np.random.randint(1, 5, size=(4, 4))\n",
    "B = np.random.randint(1, 5, size=(4, 4))\n",
    "\n",
    "print(A, end='\\n\\n')\n",
    "print(B)"
   ]
  },
  {
   "cell_type": "markdown",
   "metadata": {},
   "source": [
    "The dot and outer products of matrices can be performed in numpy simply. Dot product can be performed using `np.dot()` (or `@` but it is very [slightly different](https://stackoverflow.com/questions/34142485/difference-between-numpy-dot-and-python-3-5-matrix-multiplication) in some cases) and the outer product can be calculated with `np.outer()`"
   ]
  },
  {
   "cell_type": "code",
   "execution_count": 291,
   "metadata": {},
   "outputs": [
    {
     "name": "stdout",
     "output_type": "stream",
     "text": [
      "[[25 18 14 33]\n",
      " [20 27 19 27]\n",
      " [18 15 11 23]\n",
      " [18 25 17 23]]\n",
      "\n",
      "[[25 18 14 33]\n",
      " [20 27 19 27]\n",
      " [18 15 11 23]\n",
      " [18 25 17 23]]\n",
      "\n",
      "[[ 4  8  4  2  6  2  2  8  4  2  2  6  2  4  4  6]\n",
      " [ 8 16  8  4 12  4  4 16  8  4  4 12  4  8  8 12]\n",
      " [ 8 16  8  4 12  4  4 16  8  4  4 12  4  8  8 12]\n",
      " [ 2  4  2  1  3  1  1  4  2  1  1  3  1  2  2  3]\n",
      " [ 8 16  8  4 12  4  4 16  8  4  4 12  4  8  8 12]\n",
      " [ 4  8  4  2  6  2  2  8  4  2  2  6  2  4  4  6]\n",
      " [ 2  4  2  1  3  1  1  4  2  1  1  3  1  2  2  3]\n",
      " [ 8 16  8  4 12  4  4 16  8  4  4 12  4  8  8 12]\n",
      " [ 4  8  4  2  6  2  2  8  4  2  2  6  2  4  4  6]\n",
      " [ 6 12  6  3  9  3  3 12  6  3  3  9  3  6  6  9]\n",
      " [ 4  8  4  2  6  2  2  8  4  2  2  6  2  4  4  6]\n",
      " [ 2  4  2  1  3  1  1  4  2  1  1  3  1  2  2  3]\n",
      " [ 8 16  8  4 12  4  4 16  8  4  4 12  4  8  8 12]\n",
      " [ 2  4  2  1  3  1  1  4  2  1  1  3  1  2  2  3]\n",
      " [ 4  8  4  2  6  2  2  8  4  2  2  6  2  4  4  6]\n",
      " [ 6 12  6  3  9  3  3 12  6  3  3  9  3  6  6  9]]\n"
     ]
    }
   ],
   "source": [
    "# np.dot() and @ are basically equivalent\n",
    "print(np.dot(A, B), end='\\n\\n')\n",
    "print(A @ B, end='\\n\\n')\n",
    "\n",
    "print(np.outer(A, B))"
   ]
  },
  {
   "cell_type": "markdown",
   "metadata": {},
   "source": [
    "Matrices can have their inverse inverse and transpose applied"
   ]
  },
  {
   "cell_type": "code",
   "execution_count": 292,
   "metadata": {},
   "outputs": [
    {
     "name": "stdout",
     "output_type": "stream",
     "text": [
      "[[2 4 4 1]\n",
      " [4 2 1 4]\n",
      " [2 3 2 1]\n",
      " [4 1 2 3]]\n",
      "\n",
      "[[2 4 2 4]\n",
      " [4 2 3 1]\n",
      " [4 1 2 2]\n",
      " [1 4 1 3]]\n",
      "\n",
      "[[-0.72727273 -0.54545455  1.13636364  0.59090909]\n",
      " [-0.09090909  0.18181818  0.45454545 -0.36363636]\n",
      " [ 0.54545455 -0.09090909 -0.72727273  0.18181818]\n",
      " [ 0.63636364  0.72727273 -1.18181818 -0.45454545]]\n"
     ]
    }
   ],
   "source": [
    "# Transposition\n",
    "print(A, end='\\n\\n')\n",
    "print(A.T, end='\\n\\n')\n",
    "\n",
    "# Inversion\n",
    "print(np.linalg.inv(A))"
   ]
  },
  {
   "cell_type": "markdown",
   "metadata": {},
   "source": [
    "We can now show how summation across a formula is equivalent to matrix multiplication when use in a specific way. If we define a really large vector C and we want to find the sum of the sqares of all elements in C, the same operation can be achieved much faster using matrix multiplication:\n",
    "\n",
    "$$\n",
    "\\sum_{i=1}^{n}c_i^2 = C^T \\cdot C\n",
    "$$\n",
    "\n",
    "This difference may not seem important for a simple calculation like this but by using matrix multiplication, we avoid iteration which is a major bottle neck in computation"
   ]
  },
  {
   "cell_type": "code",
   "execution_count": 293,
   "metadata": {},
   "outputs": [
    {
     "name": "stdout",
     "output_type": "stream",
     "text": [
      "Summation: 0.6516s\n",
      "Matrix Multiplication: 0.0063s\n",
      "Equivalent?: True\n"
     ]
    }
   ],
   "source": [
    "C = np.random.randint(1, 5, size=10000000)\n",
    "\n",
    "# Summation \n",
    "start_time = time.time()\n",
    "summation = sum(C**2)\n",
    "print(f'Summation: {time.time() - start_time:.4f}s')\n",
    "\n",
    "# Matrix multiplication\n",
    "start_time = time.time()\n",
    "mat_mul = np.dot(C.T, C)\n",
    "print(f'Matrix Multiplication: {time.time() - start_time:.4f}s')\n",
    "\n",
    "print(f'Equivalent?: {summation == mat_mul}')"
   ]
  },
  {
   "cell_type": "markdown",
   "metadata": {},
   "source": [
    "Now that we have gone through the basics of matrices in numpy, we can start to look at how we can apply this to linear regression. First, we need to understand how we can convert objective function into a vectorised form. We can take our original objective function and stack the two parameters into a weight matrix $\\mathbf{w}$:\n",
    "\n",
    "$$\n",
    " \\mathbf{w} = \\begin{bmatrix} c \\\\ m \\end{bmatrix} \\\\\n",
    "\n",
    "E(\\mathbf{w}) = \\sum_{i=1}^n (y_i - f(\\mathbf{x}_i; \\mathbf{w}))^2\n",
    "$$\n",
    "\n",
    "In this format, we need $x$ to be in the design-matrix format, covered above. i.e.\n",
    "\n",
    "$$\n",
    "x_i = \\begin{bmatrix} 1 \\\\ x_i \\end{bmatrix} \\\\\n",
    "\n",
    "X = \\begin{bmatrix} 1 & x_1 \\\\ \\vdots & \\vdots \\\\ 1 & x_n \\end{bmatrix} \n",
    "$$\n",
    "\n",
    "We can now define the function $f(x_i)$:\n",
    "\n",
    "$$\n",
    "f(x_i) = x_i^Tw \\\\\n",
    "f(X;\\mathbf{w}) = X\\mathbf{w}\n",
    "$$\n",
    "\n",
    "Now, using the concept we covered above about matrix multiplication being equivalent to summation when performed in a particular manner, we can produce the following equation:\n",
    "\n",
    "$$\n",
    "E(\\mathbf{w}) = (y - f(X;\\mathbf{w}))^T(y-f(X;\\mathbf{w}))\n",
    "$$\n",
    "\n",
    "If we expand everything out, we can now define our vectorised function of the form:\n",
    "\n",
    "$$\n",
    "E(\\mathbf{w}) = (y - X\\mathbf{w})^T(y-X\\mathbf{w})\n",
    "$$"
   ]
  },
  {
   "cell_type": "markdown",
   "metadata": {},
   "source": [
    "The next step is to differentiate w.r.t $\\mathbf{w}$ to algebraically solve and find the optimimum (where gradient is 0).\n",
    "\n",
    "$$\n",
    "\\frac{dE\\mathbf{w}}{d\\mathbf{w}} = -2X^Ty + 2X^TX\\mathbf{w}\n",
    "$$\n",
    "\n",
    "Here, we are exploiting the fact that $\\mathbf{w}$ is the composite of $c$ and $m$ to perform the optimisation for both values at the same time:\n",
    "\n",
    "$$\n",
    "\\frac{dE\\mathbf{w}}{d\\mathbf{w}} = \\begin{bmatrix} \\frac{\\partial E(\\mathbf{w})}{\\partial c} \\\\ \\frac{\\partial E(\\mathbf{w})}{\\partial m} \\end{bmatrix}\n",
    "$$\n",
    "\n",
    "When we set this value to 0, we can arrange the equation to be in the following form:\n",
    "\n",
    "$$\n",
    "X^TX\\mathbf{w} = X^T\\mathbf{y}\n",
    "$$\n",
    "\n",
    "With all of the heavy maths done, we can return to numpy. For solving the differential of our objective function w.r.t. $\\mathbf{w}$, we can make use of the [np.linalg.solve](https://numpy.org/doc/stable/reference/generated/numpy.linalg.solve.html) method which solves systems of linear equations (if there is an exact solution) in the form we have now put our equation into. Taking our matrices A and B from above, we can solve for an arbitraty w based on the form:\n",
    "\n",
    "$$\n",
    "A\\mathbf{w} = B\n",
    "$$"
   ]
  },
  {
   "cell_type": "code",
   "execution_count": 294,
   "metadata": {},
   "outputs": [
    {
     "name": "stdout",
     "output_type": "stream",
     "text": [
      "[[-0.22727273 -1.13636364  0.31818182  2.27272727]\n",
      " [ 0.90909091 -0.45454545 -0.27272727  0.90909091]\n",
      " [-0.45454545  1.72727273  0.63636364 -1.45454545]\n",
      " [ 0.63636364  1.18181818 -0.09090909 -1.36363636]]\n"
     ]
    }
   ],
   "source": [
    "# Automatic linear algebra solving\n",
    "w = np.linalg.solve(A, B)\n",
    "\n",
    "print(w)"
   ]
  },
  {
   "cell_type": "markdown",
   "metadata": {},
   "source": [
    "Putting everything together, we will repeat the linear regression example using the olympic data from before."
   ]
  },
  {
   "cell_type": "code",
   "execution_count": 295,
   "metadata": {},
   "outputs": [
    {
     "data": {
      "image/png": "[encoded data removed]",
      "text/plain": [
       "<Figure size 432x288 with 1 Axes>"
      ]
     },
     "metadata": {
      "needs_background": "light"
     },
     "output_type": "display_data"
    }
   ],
   "source": [
    "# Assign x and y and shape them into a column vector\n",
    "x = np.array(data.Year.values).reshape(-1, 1).astype(float)\n",
    "y = np.array(data.Result.values).reshape(-1, 1).astype(float)\n",
    "y -= y.mean()\n",
    "y /= y.std()\n",
    "\n",
    "# Create design matrix\n",
    "X = np.hstack((np.ones_like(x), x))\n",
    "\n",
    "# Solve system of equations\n",
    "w = np.linalg.solve(np.dot(X.T, X), np.dot(X.T, y))\n",
    "\n",
    "# Plot data and line of best fit\n",
    "plt.plot(x, y, 'rx')\n",
    "plt.plot(x, np.dot(X, w))\n",
    "plt.title('Medal Times for Women\\'s Olympic 100m')\n",
    "plt.xlabel('Year')\n",
    "plt.ylabel('Time (Seconds)')\n",
    "plt.show()"
   ]
  },
  {
   "cell_type": "markdown",
   "metadata": {},
   "source": [
    "The manual implementation of linear regression is much more flexible than the scipy implementation at the cost of a little greater complexity in understanding. The numpy model also tends to run very slightly faster on average, as shown below"
   ]
  },
  {
   "cell_type": "code",
   "execution_count": 296,
   "metadata": {},
   "outputs": [
    {
     "name": "stdout",
     "output_type": "stream",
     "text": [
      "Mean runtime of numpy over 1000 tests: 0.0000194s\n",
      "Mean runtime of scipy over 1000 tests: 0.0001463s\n"
     ]
    }
   ],
   "source": [
    "# Number of iterations to average over\n",
    "num_tests = 1000\n",
    "\n",
    "numpy_times = []\n",
    "for i in range(num_tests):\n",
    "    start_time = time.time()\n",
    "    X = np.hstack((np.ones_like(x), x))\n",
    "    w = np.linalg.solve(np.dot(X.T, X), np.dot(X.T, y))\n",
    "    numpy_times.append(time.time() - start_time)\n",
    "\n",
    "print(f'Mean runtime of numpy over {num_tests} tests: {np.mean(numpy_times):.7f}s')\n",
    "\n",
    "# Reshape x and y to fit scipy requirements\n",
    "x_scipi = x.reshape(-1)\n",
    "y_scipi = y.reshape(-1)\n",
    "\n",
    "scipy_times = []\n",
    "for i in range(num_tests):\n",
    "    start_time = time.time()\n",
    "    slope, intercept, r_value, p_value, std_err = stats.linregress(x_scipi, y_scipi)\n",
    "    scipy_times.append(time.time() - start_time)\n",
    "\n",
    "print(f'Mean runtime of scipy over {num_tests} tests: {np.mean(scipy_times):.7f}s')"
   ]
  },
  {
   "cell_type": "markdown",
   "metadata": {},
   "source": [
    "To enxtend this example to implement the basis functions discussed before, we can slightly modify the method.\n",
    "\n",
    "### Exercise\n",
    "\n",
    "Predict what the line of best fit will look like for `num_basis = len(x)`. Then try it and see if you were right"
   ]
  },
  {
   "cell_type": "code",
   "execution_count": 307,
   "metadata": {},
   "outputs": [
    {
     "name": "stdout",
     "output_type": "stream",
     "text": [
      "58\n"
     ]
    },
    {
     "data": {
      "image/png": "[encoded data removed]",
      "text/plain": [
       "<Figure size 432x288 with 1 Axes>"
      ]
     },
     "metadata": {
      "needs_background": "light"
     },
     "output_type": "display_data"
    }
   ],
   "source": [
    "def polynomial(x, num_basis=4, data_limits=[-1., 1.]):\n",
    "    # Standardise input\n",
    "    centre = np.mean(data_limits)\n",
    "    span = np.ptp(data_limits)    # Get min and max values in an array\n",
    "    z = x - centre\n",
    "    z = 2*z/span\n",
    "\n",
    "    # Calculate Phi(x) function\n",
    "    Phi = np.zeros((x.shape[0], num_basis))\n",
    "    for i in range(num_basis):\n",
    "        Phi[:, i:i+1] = x**i\n",
    "    return Phi\n",
    "\n",
    "num_basis = 47\n",
    "Phi = polynomial(x, num_basis=num_basis, data_limits=[min(x), max(x)])\n",
    "w_poly = np.linalg.solve(np.dot(Phi.T, Phi), np.dot(Phi.T, y))\n",
    "\n",
    "plt.plot(x, y, 'rx', label='Data')\n",
    "plt.plot(x, np.dot(X, w), 'g-', label='Linear X')\n",
    "plt.plot(x, np.dot(Phi, w_poly), 'b-', label=f'Poly. (Basis {num_basis})')\n",
    "plt.title('Medal Times for Women\\'s Olympic 100m')\n",
    "plt.ylabel('Time (Seconds)')\n",
    "plt.xlabel('Year')\n",
    "plt.legend()\n",
    "plt.show()"
   ]
  },
  {
   "cell_type": "markdown",
   "metadata": {},
   "source": [
    "## Making a Prediction\n",
    "\n",
    "Making a prediction for the next year's marathon. In 2020, Eliud Kipchoge won the men's marathon with a time of 2:08:38. Let's see how our predictions line up with that"
   ]
  },
  {
   "cell_type": "code",
   "execution_count": 298,
   "metadata": {},
   "outputs": [
    {
     "name": "stdout",
     "output_type": "stream",
     "text": [
      "True Time: 7718s\n",
      "Linear prediction: -1.51s\n",
      "\tError: 7719.51s\n",
      "Basis 50 prediction: nans\n",
      "\tError: nans\n"
     ]
    },
    {
     "name": "stderr",
     "output_type": "stream",
     "text": [
      "/home/liam/.local/lib/python3.8/site-packages/numpy/core/_asarray.py:171: VisibleDeprecationWarning: Creating an ndarray from ragged nested sequences (which is a list-or-tuple of lists-or-tuples-or ndarrays with different lengths or shapes) is deprecated. If you meant to do this, you must specify 'dtype=object' when creating the ndarray.\n",
      "  return array(a, dtype, copy=False, order=order, subok=True)\n",
      "/home/liam/.local/lib/python3.8/site-packages/numpy/core/_methods.py:275: VisibleDeprecationWarning: Creating an ndarray from ragged nested sequences (which is a list-or-tuple of lists-or-tuples-or ndarrays with different lengths or shapes) is deprecated. If you meant to do this, you must specify 'dtype=object' when creating the ndarray.\n",
      "  umr_maximum(a, axis, None, out, keepdims),\n",
      "/home/liam/.local/lib/python3.8/site-packages/numpy/core/_methods.py:276: VisibleDeprecationWarning: Creating an ndarray from ragged nested sequences (which is a list-or-tuple of lists-or-tuples-or ndarrays with different lengths or shapes) is deprecated. If you meant to do this, you must specify 'dtype=object' when creating the ndarray.\n",
      "  umr_minimum(a, axis, None, None, keepdims),\n"
     ]
    }
   ],
   "source": [
    "year = 2020\n",
    "\n",
    "true_time = convert_to_seconds('2:08:38')\n",
    "print(f'True Time: {true_time}s')\n",
    "\n",
    "linear_pred = np.dot(np.array([1, 2020]).T, w)\n",
    "print(f'Linear prediction: {linear_pred.item():.2f}s\\n\\tError: {true_time - linear_pred.item():.2f}s')\n",
    "\n",
    "basis_year = polynomial(np.array([year]), num_basis=num_basis, data_limits=[min(x), 2020])\n",
    "basis_pred = np.dot(basis_year, w_poly)\n",
    "print(f'Basis {num_basis} prediction: {basis_pred.item():.2f}s\\n\\tError: {true_time - basis_pred.item():.2f}s')"
   ]
  }
 ],
 "metadata": {
  "interpreter": {
   "hash": "31f2aee4e71d21fbe5cf8b01ff0e069b9275f58929596ceb00d14d90e3e16cd6"
  },
  "kernelspec": {
   "display_name": "Python 3.8.10 64-bit",
   "language": "python",
   "name": "python3"
  },
  "language_info": {
   "codemirror_mode": {
    "name": "ipython",
    "version": 3
   },
   "file_extension": ".py",
   "mimetype": "text/x-python",
   "name": "python",
   "nbconvert_exporter": "python",
   "pygments_lexer": "ipython3",
   "version": "3.8.10"
  },
  "orig_nbformat": 4
 },
 "nbformat": 4,
 "nbformat_minor": 2
}
