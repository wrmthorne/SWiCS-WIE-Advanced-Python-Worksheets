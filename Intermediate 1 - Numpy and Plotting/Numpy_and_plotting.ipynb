{
 "cells": [
  {
   "attachments": {},
   "cell_type": "markdown",
   "metadata": {},
   "source": [
    "# NumPy & Plotting\n",
    "---\n",
    "Written by Liam Thorne for SWiCS & WiE Python Data-Analysis Sessions (2023)"
   ]
  },
  {
   "attachments": {},
   "cell_type": "markdown",
   "metadata": {},
   "source": [
    "Python is very fast to write code in but compared to other programming languages such as C, it is very very very slow. For performant numerical operations, an external module for Python called [NumPy (Numerical Python)](https://numpy.org/) is used. To make use of external libraries, we need to first download them. To do this, we use [PIP (Package Installer for Python)])(https://pypi.org/project/pip/). PIP makes use of the [Python Package Index](https://pypi.org/) which indexes a massive number of useful libraries for Python, including NumPy. Other package managers such as [Conda](https://docs.conda.io/en/latest/) do exist but pip is the most common and simplest to use. In your command line you can enter the following command:\n",
    "\n",
    "```bash\n",
    "pip install numpy\n",
    "```\n",
    "\n",
    "Fortunately, we can run this directly from this notebook. We will also install all of the other packages we will need for the notebook here.\n",
    "\n",
    "`Note:` You cannot do this in normal python files"
   ]
  },
  {
   "cell_type": "code",
   "execution_count": 1,
   "metadata": {},
   "outputs": [
    {
     "name": "stdout",
     "output_type": "stream",
     "text": [
      "Defaulting to user installation because normal site-packages is not writeable\n",
      "Collecting numpy\n",
      "  Downloading numpy-1.24.1-cp310-cp310-manylinux_2_17_x86_64.manylinux2014_x86_64.whl (17.3 MB)\n",
      "\u001b[2K     \u001b[90m━━━━━━━━━━━━━━━━━━━━━━━━━━━━━━━━━━━━━━━━\u001b[0m \u001b[32m17.3/17.3 MB\u001b[0m \u001b[31m8.5 MB/s\u001b[0m eta \u001b[36m0:00:00\u001b[0m00:01\u001b[0m00:01\u001b[0mm\n",
      "\u001b[?25hInstalling collected packages: numpy\n",
      "\u001b[33m  WARNING: The scripts f2py, f2py3 and f2py3.10 are installed in '/home/liam/.local/bin' which is not on PATH.\n",
      "  Consider adding this directory to PATH or, if you prefer to suppress this warning, use --no-warn-script-location.\u001b[0m\u001b[33m\n",
      "\u001b[0mSuccessfully installed numpy-1.24.1\n"
     ]
    }
   ],
   "source": [
    "# Normally you would write this line without the ! in your command line but we can do it in a notebook\n",
    "!pip install numpy matplotlib"
   ]
  },
  {
   "attachments": {},
   "cell_type": "markdown",
   "metadata": {},
   "source": [
    "NumPy can now be imported into our program and used. When using functions from external packages, we use the `package.function` notation:\n",
    "\n",
    "```python\n",
    "# Imports all functions from numpy\n",
    "import numpy\n",
    "numpy.array([1, 2, 3])\n",
    "```\n",
    "\n",
    "You can also specify which functions to import from a package. You then don't need to use the `package.function` notation:\n",
    "\n",
    "```python\n",
    "# Imports the array function\n",
    "from numpy import array\n",
    "array([1, 2, 3])\n",
    "```\n",
    "\n",
    "You can also change the name of the package to make typing/reading more convenient while still protecting against multiple packages implementing a function with the same name (e.g. `numpy.array` and `other_package.array`). This is the convention for importing numpy:\n",
    "\n",
    "```python\n",
    "# imports all functions under the np namespace\n",
    "import numpy as np\n",
    "np.array([1, 2, 3])\n",
    "```\n",
    "\n",
    "We can now import our packages"
   ]
  },
  {
   "cell_type": "code",
   "execution_count": 4,
   "metadata": {},
   "outputs": [],
   "source": [
    "import numpy as np\n",
    "import matplotlib.pyplot as plt\n",
    "from time import perf_counter"
   ]
  },
  {
   "attachments": {},
   "cell_type": "markdown",
   "metadata": {},
   "source": [
    "## Why use NumPy?\n",
    "\n",
    "How much faster is NumPy and why is it worth it? Python lists can be any type which means they need to be checked for what operation can be applied for each element which is slow. Python lists also don't occupy a single block of memory, they can be dispersed and are ordered by a `pointer` which indicates where the next list element is. Numpy also breaks operations into chunks and performs them simultaneously which python doesn't do. The cell below multiplies each element of two arrays together. "
   ]
  },
  {
   "cell_type": "code",
   "execution_count": 10,
   "metadata": {},
   "outputs": [
    {
     "name": "stdout",
     "output_type": "stream",
     "text": [
      "0.49244863300009456\n",
      "0.06864063599959991\n"
     ]
    }
   ],
   "source": [
    "N = 10_000_000\n",
    "\n",
    "a = b = range(N)\n",
    "c = d = np.arange(N)\n",
    "\n",
    "# Python version\n",
    "start = perf_counter()\n",
    "python = [a_i * b_i for a_i, b_i in zip(a, b)]\n",
    "print(perf_counter() - start)\n",
    "\n",
    "# NumPy version\n",
    "start = perf_counter()\n",
    "python = c * d\n",
    "print(perf_counter() - start)"
   ]
  },
  {
   "attachments": {},
   "cell_type": "markdown",
   "metadata": {},
   "source": [
    "## Question 1 - ND Array\n",
    "\n",
    "NumPy implements a version of an ND array which only allows for 1 data type but fast numerical operations. We can randomly initialise a NumPy array using [np.random.randint](https://numpy.org/doc/stable/reference/random/generated/numpy.random.randint.html).\n",
    "\n",
    "Initialise a NumPy array with size (5, 10) and with values in the range 0-4. Call the array `a`"
   ]
  },
  {
   "cell_type": "code",
   "execution_count": 13,
   "metadata": {},
   "outputs": [
    {
     "data": {
      "text/plain": [
       "array([[1, 0, 0, 0, 4, 1, 2, 2, 2, 3],\n",
       "       [3, 4, 4, 1, 3, 2, 2, 4, 3, 0],\n",
       "       [0, 1, 0, 3, 3, 3, 2, 4, 4, 4],\n",
       "       [3, 2, 3, 2, 2, 2, 1, 0, 0, 3],\n",
       "       [2, 2, 2, 2, 1, 0, 3, 4, 3, 1]])"
      ]
     },
     "execution_count": 13,
     "metadata": {},
     "output_type": "execute_result"
    }
   ],
   "source": [
    "# Answer Here\n",
    "a = np.random.randint(5, size=(5, 10))\n",
    "a"
   ]
  },
  {
   "attachments": {},
   "cell_type": "markdown",
   "metadata": {},
   "source": [
    "## Indexing and Axes\n",
    "\n",
    "When working with NumPy arrays, a different method of indexing to regular python lists is used. Python's slice notation is extended to allow for better specificity. For example, the following shows the difference between Python and NumPy for getting every element of the second column of elements:"
   ]
  },
  {
   "cell_type": "code",
   "execution_count": 31,
   "metadata": {},
   "outputs": [
    {
     "name": "stdout",
     "output_type": "stream",
     "text": [
      "[[0 1 2 3 4]\n",
      " [0 1 2 3 4]\n",
      " [0 1 2 3 4]\n",
      " [0 1 2 3 4]\n",
      " [0 1 2 3 4]]\n",
      "[1, 1, 1, 1, 1]\n",
      "[1 1 1 1 1]\n"
     ]
    }
   ],
   "source": [
    "a = [[i for i in range(5)] for _ in range(5)]\n",
    "b = np.array(a)\n",
    "print(b)\n",
    "\n",
    "# Python\n",
    "print([a_i[1] for a_i in a])\n",
    "\n",
    "# NumPy\n",
    "print(b[:, 1])"
   ]
  },
  {
   "attachments": {},
   "cell_type": "markdown",
   "metadata": {},
   "source": [
    "It's important to note the order of indexed elements. The first value is axis 0 (rows) and the second is axis 1 (columns). NumPy arrays can also be used as indexes in NumPy which cannot be done in Python:"
   ]
  },
  {
   "cell_type": "code",
   "execution_count": 40,
   "metadata": {},
   "outputs": [
    {
     "name": "stdout",
     "output_type": "stream",
     "text": [
      "[1, 20, 34, 48]\n",
      "[ 1 20 34 48]\n"
     ]
    }
   ],
   "source": [
    "a = list(range(50))\n",
    "b = np.arange(50)\n",
    "\n",
    "indices = [1, 20, 34, 48]\n",
    "\n",
    "# Python\n",
    "print([a[i] for i in indices])\n",
    "\n",
    "# NumPy\n",
    "print(b[indices])"
   ]
  },
  {
   "attachments": {},
   "cell_type": "markdown",
   "metadata": {},
   "source": [
    "## Axes\n",
    "\n",
    "By default, operations in numpy are treated as element wise, e.g.\n",
    "\n",
    "$$ \\sum\n",
    "\\begin{bmatrix}\n",
    "1 & 2 & 3 \\\\ \n",
    "4 & 5 & 6 \\\\ \n",
    "7 & 8 & 9 \\\\ \n",
    "\\end{bmatrix}\n",
    "= 45\n",
    "$$\n",
    "\n",
    "But using axes, you can specify whether an operation should be performed on a specific axis, e.g. sum over axis 0\n",
    "\n",
    "$$ \\sum_{axis=0}\n",
    "\\begin{bmatrix}\n",
    "1 & 2 & 3 \\\\ \n",
    "4 & 5 & 6 \\\\ \n",
    "7 & 8 & 9 \\\\ \n",
    "\\end{bmatrix}\n",
    "= \n",
    "\n",
    "\\begin{bmatrix}\n",
    "\\sum \\begin{pmatrix}1 \\\\ 4 \\\\ 7\\end{pmatrix} &\n",
    "\\sum \\begin{pmatrix}2 \\\\ 5 \\\\ 8\\end{pmatrix} &\n",
    "\\sum \\begin{pmatrix}3 \\\\ 6 \\\\ 9\\end{pmatrix}\n",
    "\\end{bmatrix}\n",
    "=\n",
    "\n",
    "\\begin{bmatrix}\n",
    "12 \\\\ \n",
    "15 \\\\ \n",
    "18 \\\\ \n",
    "\\end{bmatrix}\n",
    "$$"
   ]
  },
  {
   "cell_type": "code",
   "execution_count": 51,
   "metadata": {},
   "outputs": [
    {
     "name": "stdout",
     "output_type": "stream",
     "text": [
      "[[2 2 0 1 2]\n",
      " [1 1 0 2 0]\n",
      " [1 1 0 1 0]\n",
      " [1 0 2 1 2]\n",
      " [2 0 2 0 0]]\n",
      "24\n",
      "[7 4 4 5 4]\n",
      "[7 4 3 6 4]\n"
     ]
    }
   ],
   "source": [
    "a = np.random.randint(3, size=(5, 5))\n",
    "\n",
    "print(a)\n",
    "print(np.sum(a))\n",
    "print(np.sum(a, axis=0))\n",
    "print(np.sum(a, axis=1))"
   ]
  },
  {
   "attachments": {},
   "cell_type": "markdown",
   "metadata": {},
   "source": [
    "## Question - Axis Multiplication\n",
    "\n",
    "Create a random array of size (5, 5) with values between 0 and 4, then calculate the sum over axis 0, the sum over axis 1 and multiple the two arrays together. Then multiple the resulting array by by the sum of the complete array (no specified axes)."
   ]
  },
  {
   "cell_type": "code",
   "execution_count": 53,
   "metadata": {},
   "outputs": [
    {
     "name": "stdout",
     "output_type": "stream",
     "text": [
      "[4186 3680 1104 2576 9016]\n"
     ]
    }
   ],
   "source": [
    "# Answer Here\n",
    "a = np.random.randint(5, size=(5, 5))\n",
    "b = np.sum(a, axis=0)\n",
    "c = np.sum(a, axis=1)\n",
    "\n",
    "print(b * c * np.sum(a))"
   ]
  },
  {
   "attachments": {},
   "cell_type": "markdown",
   "metadata": {},
   "source": [
    "## Array Modification\n",
    "\n",
    "Often, we need to filter arrays based on the values of entries. For this we can use [np.where](https://numpy.org/doc/stable/reference/generated/numpy.where.html)"
   ]
  },
  {
   "cell_type": "code",
   "execution_count": null,
   "metadata": {},
   "outputs": [],
   "source": [
    "a = np.random.randint()"
   ]
  },
  {
   "attachments": {},
   "cell_type": "markdown",
   "metadata": {},
   "source": [
    "## Question - Filtering\n",
    "\n",
    "Filter the array so that values smaller than 5 are set to 0 and values larger than are kept the same:\n",
    "\n",
    "$$\n",
    "x = \n",
    "\\begin{cases}\n",
    "x & \\text{} \\\\\n",
    "x(n-1)\\\\\n",
    "x(n-1)\n",
    "\\end{cases}\n",
    "$$"
   ]
  }
 ],
 "metadata": {
  "kernelspec": {
   "display_name": "Python 3.10.6 64-bit",
   "language": "python",
   "name": "python3"
  },
  "language_info": {
   "codemirror_mode": {
    "name": "ipython",
    "version": 3
   },
   "file_extension": ".py",
   "mimetype": "text/x-python",
   "name": "python",
   "nbconvert_exporter": "python",
   "pygments_lexer": "ipython3",
   "version": "3.10.6"
  },
  "orig_nbformat": 4,
  "vscode": {
   "interpreter": {
    "hash": "916dbcbb3f70747c44a77c7bcd40155683ae19c65e1c03b4aa3499c5328201f1"
   }
  }
 },
 "nbformat": 4,
 "nbformat_minor": 2
}
