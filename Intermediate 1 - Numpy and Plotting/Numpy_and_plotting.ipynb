{
 "cells": [
  {
   "attachments": {},
   "cell_type": "markdown",
   "metadata": {},
   "source": [
    "# NumPy & Plotting\n",
    "---\n",
    "Written by Liam Thorne for SWiCS & WiE Python Data-Analysis Sessions (2023)"
   ]
  },
  {
   "attachments": {},
   "cell_type": "markdown",
   "metadata": {},
   "source": [
    "Python is very fast to write code in but compared to other programming languages such as C, it is very very very slow. For performant numerical operations, an external module for Python called [NumPy (Numerical Python)](https://numpy.org/) is used. To make use of external libraries, we need to first download them. To do this, we use [PIP (Package Installer for Python)])(https://pypi.org/project/pip/). PIP makes use of the [Python Package Index](https://pypi.org/) which indexes a massive number of useful libraries for Python, including NumPy. Other package managers such as [Conda](https://docs.conda.io/en/latest/) do exist but pip is the most common and simplest to use. In your command line you can enter the following command:\n",
    "\n",
    "```bash\n",
    "pip install numpy\n",
    "```\n",
    "\n",
    "Fortunately, we can run this directly from this notebook. We will also install all of the other packages we will need for the notebook here.\n",
    "\n",
    "`Note:` You cannot do this in normal python files"
   ]
  },
  {
   "cell_type": "code",
   "execution_count": 63,
   "metadata": {},
   "outputs": [
    {
     "name": "stdout",
     "output_type": "stream",
     "text": [
      "Defaulting to user installation because normal site-packages is not writeable\n",
      "Requirement already satisfied: numpy in /home/liam/.local/lib/python3.10/site-packages (1.22.4)\n",
      "Requirement already satisfied: matplotlib in /home/liam/.local/lib/python3.10/site-packages (3.5.2)\n",
      "Requirement already satisfied: pyparsing>=2.2.1 in /usr/lib/python3/dist-packages (from matplotlib) (2.4.7)\n",
      "Requirement already satisfied: kiwisolver>=1.0.1 in /home/liam/.local/lib/python3.10/site-packages (from matplotlib) (1.4.3)\n",
      "Requirement already satisfied: fonttools>=4.22.0 in /home/liam/.local/lib/python3.10/site-packages (from matplotlib) (4.33.3)\n",
      "Requirement already satisfied: packaging>=20.0 in /home/liam/.local/lib/python3.10/site-packages (from matplotlib) (21.3)\n",
      "Requirement already satisfied: pillow>=6.2.0 in /usr/lib/python3/dist-packages (from matplotlib) (9.0.1)\n",
      "Requirement already satisfied: python-dateutil>=2.7 in /home/liam/.local/lib/python3.10/site-packages (from matplotlib) (2.8.2)\n",
      "Requirement already satisfied: cycler>=0.10 in /home/liam/.local/lib/python3.10/site-packages (from matplotlib) (0.11.0)\n",
      "Requirement already satisfied: six>=1.5 in /usr/lib/python3/dist-packages (from python-dateutil>=2.7->matplotlib) (1.16.0)\n"
     ]
    }
   ],
   "source": [
    "# Normally you would write this line without the ! in your command line but we can do it in a notebook\n",
    "!pip install numpy matplotlib"
   ]
  },
  {
   "attachments": {},
   "cell_type": "markdown",
   "metadata": {},
   "source": [
    "NumPy can now be imported into our program and used. When using functions from external packages, we use the `package.function` notation:\n",
    "\n",
    "```python\n",
    "# Imports all functions from numpy\n",
    "import numpy\n",
    "numpy.array([1, 2, 3])\n",
    "```\n",
    "\n",
    "You can also specify which functions to import from a package. You then don't need to use the `package.function` notation:\n",
    "\n",
    "```python\n",
    "# Imports the array function\n",
    "from numpy import array\n",
    "array([1, 2, 3])\n",
    "```\n",
    "\n",
    "You can also change the name of the package to make typing/reading more convenient while still protecting against multiple packages implementing a function with the same name (e.g. `numpy.array` and `other_package.array`). This is the convention for importing numpy:\n",
    "\n",
    "```python\n",
    "# imports all functions under the np namespace\n",
    "import numpy as np\n",
    "np.array([1, 2, 3])\n",
    "```\n",
    "\n",
    "We can now import our packages"
   ]
  },
  {
   "cell_type": "code",
   "execution_count": 64,
   "metadata": {},
   "outputs": [],
   "source": [
    "import numpy as np\n",
    "import matplotlib.pyplot as plt\n",
    "from time import perf_counter"
   ]
  },
  {
   "attachments": {},
   "cell_type": "markdown",
   "metadata": {},
   "source": [
    "## Why use NumPy?\n",
    "\n",
    "How much faster is NumPy and why is it worth it? Python lists can be any type which means they need to be checked for what operation can be applied for each element which is slow. Python lists also don't occupy a single block of memory, they can be dispersed and are ordered by a `pointer` which indicates where the next list element is. Numpy also breaks operations into chunks and performs them simultaneously which python doesn't do. The cell below multiplies each element of two arrays together. "
   ]
  },
  {
   "cell_type": "code",
   "execution_count": 65,
   "metadata": {},
   "outputs": [
    {
     "name": "stdout",
     "output_type": "stream",
     "text": [
      "Python: 0.5962s\n",
      "Numpy: 0.0148s\n",
      "Equal?: True\n"
     ]
    }
   ],
   "source": [
    "N = 10_000_000 # More human readable way of writing 10 million\n",
    "\n",
    "a = b = range(N) # Assigns both a and b to the same range\n",
    "c = d = np.arange(N)\n",
    "\n",
    "# Python version\n",
    "start = perf_counter()\n",
    "python = [a_i * b_i for a_i, b_i in zip(a, b)]\n",
    "print(f'Python: {perf_counter() - start:.4f}s') # .4f means 4 decimal places\n",
    "\n",
    "# NumPy version\n",
    "start = perf_counter()\n",
    "numpy = c * d\n",
    "print(f'Numpy: {perf_counter() - start:.4f}s')\n",
    "\n",
    "print(f'Equal?: {all(python == numpy)}')"
   ]
  },
  {
   "attachments": {},
   "cell_type": "markdown",
   "metadata": {},
   "source": [
    "## Question 1 - NDArray\n",
    "\n",
    "NumPy implements a version of an NDarray (N-dimensional array) which only allows for 1 data type but fast numerical operations. There are a number of different ways to initialise a NumPy array. Some examples are as follows but there are many more:\n",
    "\n",
    "1. Empty [np.empty](https://numpy.org/doc/stable/reference/generated/numpy.empty.html)\n",
    "2. Random initialisation [np.random.randint](https://numpy.org/doc/stable/reference/random/generated/numpy.random.randint.html).\n",
    "3. A range of values [np.arange](https://numpy.org/doc/stable/reference/generated/numpy.arange.html)\n",
    "\n",
    "i) Initialise a NumPy array with size (5, 10) and with random values in the range 0-4 called `a`.\n",
    "\n",
    "ii) Then initialise another NumPy with the consecutive odd numbers between 1 and 20 called `b`."
   ]
  },
  {
   "cell_type": "code",
   "execution_count": 66,
   "metadata": {},
   "outputs": [
    {
     "name": "stdout",
     "output_type": "stream",
     "text": [
      "[[1 1 0 2 4 3 3 2 4 2]\n",
      " [0 0 4 0 4 1 4 1 2 2]\n",
      " [0 1 1 1 1 3 3 2 3 0]\n",
      " [3 4 1 2 4 3 4 4 4 3]\n",
      " [4 4 4 0 4 3 2 0 1 1]]\n",
      "[ 1  3  5  7  9 11 13 15 17 19]\n"
     ]
    }
   ],
   "source": [
    "# Answer Here\n",
    "a = np.random.randint(5, size=(5, 10))\n",
    "print(a)\n",
    "\n",
    "b = np.arange(1, 20, 2)\n",
    "print(b)"
   ]
  },
  {
   "attachments": {},
   "cell_type": "markdown",
   "metadata": {},
   "source": [
    "## Question 2 - Operators\n",
    "\n",
    "NumPy arrays work on an \"element-wise\" basis. All operators use this as default. If we use the comparison operator on two arrays, element-wise comparison will look like this:\n",
    "\n",
    "$$\n",
    "\\begin{bmatrix}\n",
    "a_1 \\\\ \n",
    "a_2 \\\\ \n",
    "a_3 \\\\ \n",
    "\\end{bmatrix}\n",
    "\n",
    "==\n",
    "\n",
    "\\begin{bmatrix}\n",
    "b_1 \\\\ \n",
    "b_2 \\\\ \n",
    "b_3 \\\\ \n",
    "\\end{bmatrix}\n",
    "\n",
    "=> \n",
    "\n",
    "\\begin{bmatrix}\n",
    "a_1 == b_1 \\\\ \n",
    "a_2 == b_2 \\\\ \n",
    "a_3 == b_3 \\\\ \n",
    "\\end{bmatrix}\n",
    "$$\n",
    "\n",
    "i) Add arrays `a` and `b` together and assign the value to `c`.\n",
    "\n",
    "ii) Multiply arrays `a` and `b` together and assign the value to `d`."
   ]
  },
  {
   "cell_type": "code",
   "execution_count": 67,
   "metadata": {},
   "outputs": [
    {
     "name": "stdout",
     "output_type": "stream",
     "text": [
      "[10 13 16 19 22 25 28 31 34 37]\n",
      "[  0  12  28  48  72 100 132 168 208 252]\n"
     ]
    }
   ],
   "source": [
    "a = np.arange(10, 30, 2)\n",
    "b = np.arange(10)\n",
    "\n",
    "# Answer Here\n",
    "c = a + b\n",
    "print(c)\n",
    "\n",
    "d = a * b\n",
    "print(d)"
   ]
  },
  {
   "attachments": {},
   "cell_type": "markdown",
   "metadata": {},
   "source": [
    "## Question 3 - More Operators\n",
    "\n",
    "There are more advanced operations we want to perform on arrays e.g. for statistics. Some examples are sum ([np.sum](https://numpy.org/doc/stable/reference/generated/numpy.sum.html)), mean ([np.mean](https://numpy.org/doc/stable/reference/generated/numpy.mean.html#numpy.mean)), sqare root ([np.sqrt](https://numpy.org/doc/stable/reference/generated/numpy.sqrt.html)) and standard deviation ([np.std](https://numpy.org/doc/stable/reference/generated/numpy.std.html#numpy.std)) but again, there are a massive number of numerical operators. These work, by default on the whole array.\n",
    "\n",
    "i) Find the standard deviation of `a` using `np.std` and assign it to `b`.\n",
    "\n",
    "ii) Calculate the standard deviation of `a` using the formula manually and compare your answer to `b` (it should be the same).\n",
    "\n",
    "$$\n",
    "\\sigma = \\sqrt{\\frac{\\sum{(X - \\mu)^2}}{N}}\n",
    "$$"
   ]
  },
  {
   "cell_type": "code",
   "execution_count": 68,
   "metadata": {},
   "outputs": [
    {
     "name": "stdout",
     "output_type": "stream",
     "text": [
      "0.9670792110785361\n",
      "True\n"
     ]
    }
   ],
   "source": [
    "# Set the random number generator seed so we get the same random numbers each time\n",
    "np.random.seed(0)\n",
    "a = np.random.randn(10)\n",
    "\n",
    "# Answer Here\n",
    "b = np.std(a)\n",
    "print(b)\n",
    "\n",
    "sigma = np.sqrt(np.sum((a - np.mean(a))**2) / len(a))\n",
    "print(b == sigma)"
   ]
  },
  {
   "attachments": {},
   "cell_type": "markdown",
   "metadata": {},
   "source": [
    "## Question 4 - Axes\n",
    "\n",
    "\n",
    "By default, operations in numpy are treated as element wise, e.g.\n",
    "\n",
    "$$ \\sum\n",
    "\\begin{bmatrix}\n",
    "1 & 2 & 3 \\\\ \n",
    "4 & 5 & 6 \\\\ \n",
    "7 & 8 & 9 \\\\ \n",
    "\\end{bmatrix}\n",
    "= 45\n",
    "$$\n",
    "\n",
    "But using axes, you can specify whether an operation should be performed on a specific dimension. Axis 0 is the \"y\" dimension and axis 1 is the \"x\" dimension (same format as matrices). `Note:` NDArray means you can have any number of dimensions and, thus, any number of axes, e.g. sum over axis 0.\n",
    "\n",
    "$$ \\sum_{axis=0}\n",
    "\\begin{bmatrix}\n",
    "1 & 2 & 3 \\\\ \n",
    "4 & 5 & 6 \\\\ \n",
    "7 & 8 & 9 \\\\ \n",
    "\\end{bmatrix}\n",
    "= \n",
    "\n",
    "\\begin{bmatrix}\n",
    "\\sum \\begin{pmatrix}1 \\\\ 4 \\\\ 7\\end{pmatrix} &\n",
    "\\sum \\begin{pmatrix}2 \\\\ 5 \\\\ 8\\end{pmatrix} &\n",
    "\\sum \\begin{pmatrix}3 \\\\ 6 \\\\ 9\\end{pmatrix}\n",
    "\\end{bmatrix}\n",
    "=\n",
    "\n",
    "\\begin{bmatrix}\n",
    "12 \\\\ \n",
    "15 \\\\ \n",
    "18 \\\\ \n",
    "\\end{bmatrix}\n",
    "$$\n",
    "\n",
    "i) Find the standard deviation of `a` for each `row` and assign it to `b`.\n",
    "\n",
    "ii) Calculate the standard deviation of `a` for each `row` using the formula manually and compare your answer to `b` (it should be the same).\n",
    "\n",
    "$$\n",
    "\\sigma = \\sqrt{\\frac{\\sum{(X - \\mu)^2}}{N}}\n",
    "$$\n",
    "\n",
    "`HINT:` You can use [np.apply_along_axis](https://numpy.org/doc/stable/reference/generated/numpy.apply_along_axis.html) to calculate $X - \\mu$ for each row. When calculating N, you also need to consider the axis. You can use [np.shape](https://numpy.org/doc/stable/reference/generated/numpy.shape.html) to get the length of a specific dimension."
   ]
  },
  {
   "cell_type": "code",
   "execution_count": 69,
   "metadata": {},
   "outputs": [
    {
     "name": "stdout",
     "output_type": "stream",
     "text": [
      "[[ 1.76405235  0.40015721  0.97873798  2.2408932   1.86755799]\n",
      " [-0.97727788  0.95008842 -0.15135721 -0.10321885  0.4105985 ]\n",
      " [ 0.14404357  1.45427351  0.76103773  0.12167502  0.44386323]\n",
      " [ 0.33367433  1.49407907 -0.20515826  0.3130677  -0.85409574]\n",
      " [-2.55298982  0.6536186   0.8644362  -0.74216502  2.26975462]\n",
      " [-1.45436567  0.04575852 -0.18718385  1.53277921  1.46935877]\n",
      " [ 0.15494743  0.37816252 -0.88778575 -1.98079647 -0.34791215]\n",
      " [ 0.15634897  1.23029068  1.20237985 -0.38732682 -0.30230275]\n",
      " [-1.04855297 -1.42001794 -1.70627019  1.9507754  -0.50965218]\n",
      " [-0.4380743  -1.25279536  0.77749036 -1.61389785 -0.21274028]]\n",
      "[0.66674628 0.6413384  0.49308375 0.77191116 1.63378563 1.11939056\n",
      " 0.84376137 0.70762279 1.31132754 0.83836533]\n",
      "[ True  True  True  True  True  True  True  True  True  True]\n"
     ]
    }
   ],
   "source": [
    "np.random.seed(0)\n",
    "a = np.random.randn(10, 5)\n",
    "print(a)\n",
    "\n",
    "# Answer Here\n",
    "b = np.std(a, axis=1)\n",
    "print(b)\n",
    "\n",
    "mu = np.mean(a, axis=1)\n",
    "x_minus_mu = np.apply_along_axis(lambda x: x - mu, 0, a)\n",
    "sigma = np.sqrt(np.sum((x_minus_mu)**2, axis=1) / a.shape[1])\n",
    "\n",
    "print(b == sigma)"
   ]
  },
  {
   "attachments": {},
   "cell_type": "markdown",
   "metadata": {},
   "source": [
    "## Question 5 - Slice & Stride Indexing\n",
    "\n",
    "NumPy lists make use of extended functionality when it comes to indexing over python lists. The [slice and stride](https://numpy.org/doc/stable/user/basics.indexing.html#basics-indexing) notation (:) is extended to allow for columns or rows to be selected from multi-dimensional structures more easily. The notation follows the standard python format of `[start:stop:step]`. The notation is altered by separating each dimension with a \"`,`\" inside the square brackets. The first element is axis 0, the second is axis 1, etc. The step determines the spacing to apply between values. Multiple indexed values can also be assigned easily in NumPy which is not possible with python lists.\n",
    "\n",
    "$$\n",
    "a = \n",
    "\\begin{bmatrix}\n",
    "1 & 2 & 3 \\\\ \n",
    "4 & 5 & 6 \\\\ \n",
    "7 & 8 & 9 \\\\ \n",
    "\\end{bmatrix}\n",
    "\n",
    "a[0, :] =\n",
    "\\begin{bmatrix}\n",
    "1 & 2 & 3\n",
    "\\end{bmatrix}\n",
    "$$\n",
    "\n",
    "i) Get all elements in the third column using just python functions.\n",
    "\n",
    "ii) Get all elements in the third column using numpy slice notation.\n",
    "\n",
    "iii) Assign every other element in the third column to -$1$. `Note:` this will modify the original array `a`"
   ]
  },
  {
   "cell_type": "code",
   "execution_count": 124,
   "metadata": {},
   "outputs": [
    {
     "name": "stdout",
     "output_type": "stream",
     "text": [
      "[[ 0  1  2  3  4  5  6  7  8  9]\n",
      " [10 11 12 13 14 15 16 17 18 19]\n",
      " [20 21 22 23 24 25 26 27 28 29]\n",
      " [30 31 32 33 34 35 36 37 38 39]\n",
      " [40 41 42 43 44 45 46 47 48 49]\n",
      " [50 51 52 53 54 55 56 57 58 59]\n",
      " [60 61 62 63 64 65 66 67 68 69]\n",
      " [70 71 72 73 74 75 76 77 78 79]\n",
      " [80 81 82 83 84 85 86 87 88 89]\n",
      " [90 91 92 93 94 95 96 97 98 99]]\n",
      "[2, 12, 22, 32, 42, 52, 62, 72, 82, 92]\n",
      "[ True  True  True  True  True  True  True  True  True  True]\n",
      "[[ 0  1 -1  3  4  5  6  7  8  9]\n",
      " [10 11 12 13 14 15 16 17 18 19]\n",
      " [20 21 -1 23 24 25 26 27 28 29]\n",
      " [30 31 32 33 34 35 36 37 38 39]\n",
      " [40 41 -1 43 44 45 46 47 48 49]\n",
      " [50 51 52 53 54 55 56 57 58 59]\n",
      " [60 61 -1 63 64 65 66 67 68 69]\n",
      " [70 71 72 73 74 75 76 77 78 79]\n",
      " [80 81 -1 83 84 85 86 87 88 89]\n",
      " [90 91 92 93 94 95 96 97 98 99]]\n"
     ]
    }
   ],
   "source": [
    "a = np.arange(100).reshape(10, 10)\n",
    "print(a)\n",
    "\n",
    "# Answer Here\n",
    "b = [a_i for a_i in a[:, 2]]\n",
    "print(b)\n",
    "\n",
    "c = a[:, 2]\n",
    "print(c == b)\n",
    "\n",
    "a[::2, 2] = -1\n",
    "print(a)"
   ]
  },
  {
   "attachments": {},
   "cell_type": "markdown",
   "metadata": {},
   "source": [
    "## Question 6 - Integer Array Indexing\n",
    "\n",
    "[Integer array indexing](https://numpy.org/doc/stable/user/basics.indexing.html#integer-array-indexing) allows NumPy arrays to be used to select specific indices from an array. For one dimensional arrays, a single list is provided. For multi-dimensional arrays, supplying one list will extract whole axes. To specify infididual values in an array, you can use multiple separate arrays. `Note:` These arrays must match in length.\n",
    "\n",
    "$$\n",
    "a = \n",
    "\\begin{bmatrix}\n",
    "1 & 2 & 3 \\\\ \n",
    "4 & 5 & 6 \\\\ \n",
    "7 & 8 & 9 \\\\ \n",
    "\\end{bmatrix}\n",
    "\n",
    "a[[0, 1, 1], [1, 1, 2]] =\n",
    "\\begin{bmatrix}\n",
    "0 & 4 & 5\n",
    "\\end{bmatrix}\n",
    "$$\n",
    "\n",
    "i) Extract the first and third segments (think of them as 'planes' of numbers rather than 'columns') from axis 2 from the following 3D array and assign the value to `b`. The [shape](https://numpy.org/doc/stable/reference/generated/numpy.shape.html) should be (3, 3, 2). \n",
    "\n",
    "i) Assign the values at indices (1, 1, 0), (2, 1, 1), and (2, 2, 2) to -1.\n",
    "\n",
    "`HINT:` If you're struggling to visualise each axis, inspect `a[0]` and see what it is representing."
   ]
  },
  {
   "cell_type": "code",
   "execution_count": 127,
   "metadata": {},
   "outputs": [
    {
     "name": "stdout",
     "output_type": "stream",
     "text": [
      "[[[ 0  1  2]\n",
      "  [ 3  4  5]\n",
      "  [ 6  7  8]]\n",
      "\n",
      " [[ 9 10 11]\n",
      "  [12 13 14]\n",
      "  [15 16 17]]\n",
      "\n",
      " [[18 19 20]\n",
      "  [21 22 23]\n",
      "  [24 25 26]]]\n",
      "(3, 3, 2)\n",
      "[[[ 0  1  2]\n",
      "  [ 3  4 -1]\n",
      "  [ 6  7  8]]\n",
      "\n",
      " [[ 9 10 11]\n",
      "  [12 13 -1]\n",
      "  [15 16 -1]]\n",
      "\n",
      " [[18 19 20]\n",
      "  [21 22 23]\n",
      "  [24 25 26]]]\n"
     ]
    }
   ],
   "source": [
    "a = np.arange(27).reshape(3, 3, 3)\n",
    "print(a)\n",
    "\n",
    "# Answer Here\n",
    "b = a[:, :, [0, 2]]\n",
    "print(b.shape)\n",
    "\n",
    "a[[1, 1, 0], [2, 1, 1], [2, 2, 2]] = -1\n",
    "print(a)"
   ]
  },
  {
   "attachments": {},
   "cell_type": "markdown",
   "metadata": {},
   "source": [
    "## Question 7 - Boolean Array Indexing\n",
    "\n",
    "[Boolean array indexing](https://numpy.org/doc/stable/user/basics.indexing.html#boolean-array-indexing) allows for conditionally selecting certain indices based on their value or some other condition. A boolean array can be calculated by using a comparison between a NumPy array and a value. e.g.\n",
    "\n",
    "```python\n",
    "b = a < 3\n",
    "```\n",
    "\n",
    "This can be applied to `a` to select the indices where `True` is found. Alternatively, the condition can be applied inside the square brackets.\n",
    "\n",
    "i) Calculate the boolean array where the following condition is true for `a` and assign the value to `c`:\n",
    "\n",
    "$$\n",
    "a = \n",
    "\\begin{cases}\n",
    "True & \\text{if } a < 7\\\\\n",
    "False & \\text{otherwise}\n",
    "\\end{cases}\n",
    "$$\n",
    "\n",
    "ii) Select the values in `b` using the boolean array `c` and assign the value to `d`.\n",
    "\n",
    "iii) Use the condition above in square brackets on the array `b` to get the same result.\n",
    "\n",
    "iv) Use the condition in the square bracket to replace True values in `a` with -1."
   ]
  },
  {
   "cell_type": "code",
   "execution_count": 134,
   "metadata": {},
   "outputs": [
    {
     "name": "stdout",
     "output_type": "stream",
     "text": [
      "[[ True  True  True  True  True]\n",
      " [ True  True False False False]]\n",
      "[10 11 12 13 14 15 16]\n",
      "[ True  True  True  True  True  True  True]\n",
      "[[-1 -1 -1 -1 -1]\n",
      " [-1 -1  7  8  9]]\n"
     ]
    }
   ],
   "source": [
    "a = np.arange(10).reshape(2, 5)\n",
    "b = np.arange(10, 20).reshape(2, 5)\n",
    "\n",
    "# Answer Here\n",
    "c = a < 7\n",
    "print(c)\n",
    "\n",
    "d = b[c]\n",
    "print(d)\n",
    "\n",
    "print(d == b[a < 7])\n",
    "\n",
    "a[a < 7] = -1\n",
    "print(a)"
   ]
  }
 ],
 "metadata": {
  "kernelspec": {
   "display_name": "Python 3.10.6 64-bit",
   "language": "python",
   "name": "python3"
  },
  "language_info": {
   "codemirror_mode": {
    "name": "ipython",
    "version": 3
   },
   "file_extension": ".py",
   "mimetype": "text/x-python",
   "name": "python",
   "nbconvert_exporter": "python",
   "pygments_lexer": "ipython3",
   "version": "3.10.6"
  },
  "orig_nbformat": 4,
  "vscode": {
   "interpreter": {
    "hash": "916dbcbb3f70747c44a77c7bcd40155683ae19c65e1c03b4aa3499c5328201f1"
   }
  }
 },
 "nbformat": 4,
 "nbformat_minor": 2
}
